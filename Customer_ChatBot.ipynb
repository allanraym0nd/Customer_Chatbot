{
  "nbformat": 4,
  "nbformat_minor": 0,
  "metadata": {
    "colab": {
      "provenance": []
    },
    "kernelspec": {
      "name": "python3",
      "display_name": "Python 3"
    },
    "language_info": {
      "name": "python"
    }
  },
  "cells": [
    {
      "cell_type": "code",
      "execution_count": 5,
      "metadata": {
        "colab": {
          "base_uri": "https://localhost:8080/"
        },
        "id": "hLA4fubs_faA",
        "outputId": "8557b367-089d-4e2c-8970-95a81985b61d"
      },
      "outputs": [
        {
          "output_type": "stream",
          "name": "stdout",
          "text": [
            "Please enter your customer support question: im having internet issues\n",
            "\n",
            "User: im having internet issues\n",
            "\n",
            "**CLASSIFICATION:** Technical Support\n",
            "Chatbot: Please try restarting your device. If the problem persists, contact technical support with your device details.\n"
          ]
        }
      ],
      "source": [
        "\n",
        "categories = {\n",
        "    \"Billing\": [\n",
        "        \"How can I update my payment method?\",\n",
        "        \"I was charged twice on my last bill.\",\n",
        "        \"Where is my invoice for last month?\"\n",
        "    ],\n",
        "    \"Technical Support\": [\n",
        "        \"My internet is not working.\",\n",
        "        \"I'm getting an error code 404.\",\n",
        "        \"The software won't install properly.\"\n",
        "    ],\n",
        "    \"General Inquiry\": [\n",
        "        \"What are your business hours?\",\n",
        "        \"Where is your main office located?\",\n",
        "        \"How can I contact a human agent?\"\n",
        "    ]\n",
        "}\n",
        "\n",
        "\n",
        "keywords = {\n",
        "    \"Billing\": [\"payment\", \"invoice\", \"bill\", \"charge\", \"charged\", \"pricing\", \"cost\", \"money\", \"update\"],\n",
        "    \"Technical Support\": [\"error\", \"problem\", \"not working\", \"issue\", \"bug\", \"software\", \"install\", \"device\", \"internet\"],\n",
        "    \"General Inquiry\": [\"hours\", \"location\", \"contact\", \"human\", \"agent\", \"office\", \"business\", \"where\", \"what\"]\n",
        "}\n",
        "\n",
        "\n",
        "predefined_responses = {\n",
        "    \"Billing\": \"For billing questions, please check your account settings or contact billing support during business hours.\",\n",
        "    \"Technical Support\": \"Please try restarting your device. If the problem persists, contact technical support with your device details.\",\n",
        "    \"General Inquiry\": \"Our business hours are 9 AM to 5 PM, Monday to Friday. You can find our main office location on our website.\"\n",
        "}\n",
        "\n",
        "\n",
        "frustration_keywords = [\"angry\", \"frustrated\", \"not happy\", \"unhappy\", \"terrible\", \"bad service\", \"awful\", \"escalate\"]\n",
        "escalation_response = \"I understand this is frustrating. Let me connect you with a human representative who can assist you immediately.\"\n",
        "unknown_response = \"I'm sorry, I couldn't understand your request. Could you please rephrase your question or try a different one?\"\n",
        "\n",
        "# chatbot\n",
        "\n",
        "user_question = input(\"Please enter your customer support question: \")\n",
        "\n",
        "print(f\"\\nUser: {user_question}\\n\")\n",
        "\n",
        "# Standardizing input\n",
        "processed_question = user_question.lower()\n",
        "final_response = \"\"\n",
        "final_category = \"Unknown\"\n",
        "\n",
        "\n",
        "is_frustrated = any(word in processed_question for word in frustration_keywords)\n",
        "\n",
        "if is_frustrated:\n",
        "    final_category = \"Human Agent Required\"\n",
        "    final_response = escalation_response\n",
        "else:\n",
        "    # count Keyword Matches for Each Category\n",
        "    match_counts = {}\n",
        "    for category, category_keywords in keywords.items():\n",
        "        count = 0\n",
        "        for keyword in category_keywords:\n",
        "            if keyword in processed_question:\n",
        "                count += 1\n",
        "        match_counts[category] = count\n",
        "\n",
        "    # determining Best-Match Category\n",
        "    if match_counts:\n",
        "        best_match_category = max(match_counts, key=match_counts.get)\n",
        "        max_matches = match_counts[best_match_category]\n",
        "    else:\n",
        "        best_match_category = \"Unknown\"\n",
        "        max_matches = 0\n",
        "\n",
        "    # assigning category\n",
        "    if max_matches > 0:\n",
        "        final_category = best_match_category\n",
        "        final_response = predefined_responses.get(final_category)\n",
        "    else:\n",
        "        final_category = \"Unknown\"\n",
        "        final_response = unknown_response\n",
        "\n",
        "\n",
        "print(f\"**CLASSIFICATION:** {final_category}\")\n",
        "print(f\"Chatbot: {final_response}\")"
      ]
    }
  ]
}